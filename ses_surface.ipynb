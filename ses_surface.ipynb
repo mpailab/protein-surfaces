{
 "cells": [
  {
   "cell_type": "code",
   "execution_count": 1,
   "metadata": {},
   "outputs": [],
   "source": [
    "import numpy as np"
   ]
  },
  {
   "cell_type": "code",
   "execution_count": 2,
   "metadata": {},
   "outputs": [],
   "source": [
    "def generate_surface_points(center, radius, split_param=100):   \n",
    "    u = np.linspace(0, 1, split_param)  \n",
    "    v = np.linspace(0, 1, split_param)  \n",
    "\n",
    "    u_grid, v_grid = np.meshgrid(u, v)\n",
    "\n",
    "    u_spher = u_grid * 2 * np.pi  \n",
    "    v_spher = np.arcsin(2 * v_grid - 1)  \n",
    "\n",
    "    # Перевод в декартовы координаты\n",
    "    x = center[0] + radius * np.cos(v_spher) * np.cos(u_spher)\n",
    "    y = center[1] + radius * np.cos(v_spher) * np.sin(u_spher)\n",
    "    z = center[2] + radius * np.sin(v_spher)\n",
    "\n",
    "    decart_coords = np.vstack([x.ravel(), y.ravel(), z.ravel()]).T\n",
    "\n",
    "    normals = np.column_stack((x - center[0], y - center[1], z - center[2]))\n",
    "    normals /= np.linalg.norm(normals, axis=1, keepdims=True)\n",
    "\n",
    "    return decart_coords, normals\n"
   ]
  },
  {
   "cell_type": "code",
   "execution_count": 5,
   "metadata": {},
   "outputs": [],
   "source": [
    "def generate_toroidal_surface(center, plane, R, r, split_param=100):\n",
    "    u = np.linspace(0, 1, split_param)  \n",
    "    v = np.linspace(0, 1, split_param)  \n",
    "    u, v = np.meshgrid(u, v)\n",
    "\n",
    "    u_spher = u * 2 * np.pi  \n",
    "    v_spher = np.arcsin(2 * v - 1) \n",
    "\n",
    "    # Перевод точек в декартовую систему координат\n",
    "    x = (R + r * np.cos(v_spher)) * np.cos(u_spher)\n",
    "    y = (R + r * np.cos(v_spher)) * np.sin(u_spher)\n",
    "    z = r * np.sin(v_spher)\n",
    "\n",
    "    points = np.vstack([x.ravel(), y.ravel(), z.ravel()]).T\n",
    "\n",
    "    normals = []\n",
    "    for point in points:\n",
    "        x, y, z = point - center  # Смещаем точку в локальную систему координат\n",
    "\n",
    "        \n",
    "        proj_length = np.sqrt(x**2 + y**2)\n",
    "        proj_x = (x / proj_length) * R\n",
    "        proj_y = (y / proj_length) * R\n",
    "        proj_z = 0 \n",
    "\n",
    "        normal_vector = np.array([x - proj_x, y - proj_y, z - proj_z])\n",
    "        normal_vector /= np.linalg.norm(normal_vector)       \n",
    "        normals.append(normal_vector)\n",
    "\n",
    "    return points, np.array(normals)\n",
    "\n"
   ]
  },
  {
   "cell_type": "code",
   "execution_count": 6,
   "metadata": {},
   "outputs": [],
   "source": [
    "def apply_constraints(points, normals, constraints):\n",
    "    A = np.array([constraint[:3] for constraint in constraints])\n",
    "    b = -np.array([constraint[3] for constraint in constraints])\n",
    "\n",
    "    valid_points = []\n",
    "    valid_normals = []\n",
    "    for i, point in enumerate(points):\n",
    "        if np.all(np.dot(A, point) >= b):  \n",
    "            valid_points.append(point)\n",
    "            valid_normals.append(normals[i])\n",
    "\n",
    "    return np.array(valid_points), np.array(valid_normals)"
   ]
  },
  {
   "cell_type": "code",
   "execution_count": 7,
   "metadata": {},
   "outputs": [],
   "source": [
    "def generate_points(surface, split_param=100, r_probe=1.0):\n",
    "    if 'Atom_sur' in surface:\n",
    "        center, radius, constraints = surface['Atom_sur'].values()\n",
    "        points, normals = generate_surface_points(center, radius, split_param)\n",
    "    elif 'Bond_sur' in surface:\n",
    "        center, constraints = surface['Bond_sur'].values()\n",
    "        points, normals = generate_surface_points(center, r_probe, split_param)\n",
    "    elif 'Tor_sur' in surface:\n",
    "        _, center, R, r, constraints = surface['Tor_sur'].values()\n",
    "        points, normals = generate_toroidal_surface(center, R, r, split_param)\n",
    "    else:\n",
    "        raise ValueError(\"Неизвестный тип поверхности\")\n",
    "    \n",
    "    return apply_constraints(points, normals, constraints)"
   ]
  },
  {
   "cell_type": "code",
   "execution_count": 10,
   "metadata": {},
   "outputs": [
    {
     "ename": "ValueError",
     "evalue": "too many values to unpack (expected 2)",
     "output_type": "error",
     "traceback": [
      "\u001b[0;31m---------------------------------------------------------------------------\u001b[0m",
      "\u001b[0;31mValueError\u001b[0m                                Traceback (most recent call last)",
      "Cell \u001b[0;32mIn[10], line 6\u001b[0m\n\u001b[1;32m      3\u001b[0m surface_bond \u001b[38;5;241m=\u001b[39m {\u001b[38;5;124m'\u001b[39m\u001b[38;5;124mBond_sur\u001b[39m\u001b[38;5;124m'\u001b[39m: {\u001b[38;5;124m'\u001b[39m\u001b[38;5;124mCenter\u001b[39m\u001b[38;5;124m'\u001b[39m: (\u001b[38;5;241m5\u001b[39m,\u001b[38;5;241m15\u001b[39m,\u001b[38;5;241m17\u001b[39m), \u001b[38;5;124m'\u001b[39m\u001b[38;5;124mСonstraints\u001b[39m\u001b[38;5;124m'\u001b[39m: [[\u001b[38;5;241m2\u001b[39m,\u001b[38;5;241m3\u001b[39m,\u001b[38;5;241m8\u001b[39m,\u001b[38;5;241m1\u001b[39m],[\u001b[38;5;241m1\u001b[39m,\u001b[38;5;241m1\u001b[39m,\u001b[38;5;241m2\u001b[39m,\u001b[38;5;241m2\u001b[39m]]}}\n\u001b[1;32m      4\u001b[0m surface_tor \u001b[38;5;241m=\u001b[39m {\u001b[38;5;124m'\u001b[39m\u001b[38;5;124mTor_sur\u001b[39m\u001b[38;5;124m'\u001b[39m: {\u001b[38;5;124m'\u001b[39m\u001b[38;5;124mPlane\u001b[39m\u001b[38;5;124m'\u001b[39m: [\u001b[38;5;241m1\u001b[39m,\u001b[38;5;241m5\u001b[39m,\u001b[38;5;241m4\u001b[39m,\u001b[38;5;241m2\u001b[39m], \u001b[38;5;124m'\u001b[39m\u001b[38;5;124mCenter\u001b[39m\u001b[38;5;124m'\u001b[39m: (\u001b[38;5;241m5\u001b[39m,\u001b[38;5;241m15\u001b[39m,\u001b[38;5;241m17\u001b[39m), \u001b[38;5;124m'\u001b[39m\u001b[38;5;124mRadius_1\u001b[39m\u001b[38;5;124m'\u001b[39m: \u001b[38;5;241m20\u001b[39m, \u001b[38;5;124m'\u001b[39m\u001b[38;5;124mRadius_2\u001b[39m\u001b[38;5;124m'\u001b[39m: \u001b[38;5;241m5\u001b[39m, \u001b[38;5;124m'\u001b[39m\u001b[38;5;124mСonstraints\u001b[39m\u001b[38;5;124m'\u001b[39m: [[\u001b[38;5;241m2\u001b[39m,\u001b[38;5;241m3\u001b[39m,\u001b[38;5;241m8\u001b[39m,\u001b[38;5;241m1\u001b[39m],[\u001b[38;5;241m1\u001b[39m,\u001b[38;5;241m1\u001b[39m,\u001b[38;5;241m2\u001b[39m,\u001b[38;5;241m2\u001b[39m]]}}\n\u001b[0;32m----> 6\u001b[0m points_atom, normals_atom \u001b[38;5;241m=\u001b[39m generate_points(surface_atom)\n\u001b[1;32m      7\u001b[0m points_bond, normals_bond \u001b[38;5;241m=\u001b[39m generate_points(surface_bond)\n\u001b[1;32m      8\u001b[0m points_tor, normals_tor \u001b[38;5;241m=\u001b[39m generate_points(surface_tor)\n",
      "\u001b[0;31mValueError\u001b[0m: too many values to unpack (expected 2)"
     ]
    }
   ],
   "source": [
    "surface_atom = {'Atom_sur': {'Center': (5,15,17), 'Radius': 10, 'Сonstraints': [[2,3,8,1],[1,1,2,2]]}}\n",
    "surface_bond = {'Bond_sur': {'Center': (5,15,17), 'Сonstraints': [[2,3,8,1],[1,1,2,2]]}}\n",
    "surface_tor = {'Tor_sur': {'Plane': [1,5,4,2], 'Center': (5,15,17), 'Radius_1': 20, 'Radius_2': 5, 'Сonstraints': [[2,3,8,1],[1,1,2,2]]}}\n",
    "\n",
    "points_atom, normals_atom = generate_points(surface_atom)\n",
    "points_bond, normals_bond = generate_points(surface_bond)\n",
    "points_tor, normals_tor = generate_points(surface_tor)\n",
    "\n",
    "print(\"Atom surface points:\", points_atom[:5])  \n",
    "print(\"Atom surface normals:\", normals_atom[:5])\n",
    "print(\"Bond surface points:\", points_bond[:5])\n",
    "print(\"Bond surface normals:\", normals_bond[:5])\n",
    "print(\"Torus surface points:\", points_tor[:5])\n",
    "print(\"Torus surface normals:\", normals_tor[:5])"
   ]
  },
  {
   "cell_type": "code",
   "execution_count": null,
   "metadata": {},
   "outputs": [],
   "source": []
  },
  {
   "cell_type": "code",
   "execution_count": null,
   "metadata": {},
   "outputs": [],
   "source": []
  },
  {
   "cell_type": "code",
   "execution_count": null,
   "metadata": {},
   "outputs": [],
   "source": []
  },
  {
   "cell_type": "code",
   "execution_count": null,
   "metadata": {},
   "outputs": [],
   "source": []
  },
  {
   "cell_type": "code",
   "execution_count": null,
   "metadata": {},
   "outputs": [],
   "source": []
  },
  {
   "cell_type": "code",
   "execution_count": null,
   "metadata": {},
   "outputs": [],
   "source": []
  },
  {
   "cell_type": "code",
   "execution_count": null,
   "metadata": {},
   "outputs": [],
   "source": []
  }
 ],
 "metadata": {
  "kernelspec": {
   "display_name": ".env",
   "language": "python",
   "name": "python3"
  },
  "language_info": {
   "codemirror_mode": {
    "name": "ipython",
    "version": 3
   },
   "file_extension": ".py",
   "mimetype": "text/x-python",
   "name": "python",
   "nbconvert_exporter": "python",
   "pygments_lexer": "ipython3",
   "version": "3.10.12"
  }
 },
 "nbformat": 4,
 "nbformat_minor": 2
}
